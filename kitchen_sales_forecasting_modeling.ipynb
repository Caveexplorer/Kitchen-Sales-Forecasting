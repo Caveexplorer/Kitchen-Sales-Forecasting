{
 "cells": [
  {
   "cell_type": "markdown",
   "metadata": {},
   "source": [
    "## Imports and Loading Data"
   ]
  },
  {
   "cell_type": "code",
   "execution_count": 1,
   "metadata": {},
   "outputs": [],
   "source": [
    "import pandas as pd\n",
    "import numpy as np\n",
    "import matplotlib.pyplot as plt\n",
    "from scipy import stats\n",
    "from math import sqrt\n",
    "\n",
    "from statsmodels.tsa.seasonal import seasonal_decompose\n",
    "from statsmodels.regression.linear_model import OLS\n",
    "from statsmodels.tsa.stattools import adfuller\n",
    "from statsmodels.graphics.tsaplots import acf, plot_acf, pacf, plot_pacf\n",
    "from statsmodels.tsa.arima.model import ARIMA\n",
    "from statsmodels.stats.diagnostic import het_arch\n",
    "import warnings\n",
    "warnings.filterwarnings(\"ignore\")\n",
    "\n",
    "from sklearn.base import BaseEstimator, RegressorMixin\n",
    "from sklearn.model_selection import GridSearchCV\n",
    "from sklearn.metrics import mean_squared_error, mean_absolute_error\n",
    "\n",
    "import holidays\n",
    "import datetime"
   ]
  },
  {
   "cell_type": "code",
   "execution_count": 2,
   "metadata": {},
   "outputs": [
    {
     "data": {
      "text/plain": [
       "order_date\n",
       "2015-01-01    2713.85\n",
       "2015-01-02    2731.90\n",
       "2015-01-03    2662.40\n",
       "2015-01-04    1755.45\n",
       "2015-01-05    2065.95\n",
       "Name: total_price, dtype: float64"
      ]
     },
     "execution_count": 2,
     "metadata": {},
     "output_type": "execute_result"
    }
   ],
   "source": [
    "by_days = pd.read_pickle('sales_by_day.pkl')\n",
    "by_days.head()"
   ]
  },
  {
   "cell_type": "markdown",
   "metadata": {},
   "source": [
    "# ARIMA Modeling\n",
    "\n",
    "Having taken a look at our data with rolling averages and standard deviations, the seasonal decomposition plots, the acf and pacf plots, and adfuller test results, we're fairly certain our data is stationary. The decomposition plots, the rolling average plots, and the adfuller test tell us that our data has no trend. The seasonal decomposition and basic time series plots tell us that our data has a high degree of seasonality. The acf and pacf plots tell us that this seasonality comes in 7 day windows. This exploratory data analysis is useful, but by no means deterministic with regards to the correct model order choices. The parameter space is constrained, but not fully determined. Therefore, we will still attempt a grid search for some model orders, while certain others are known. For example, the fact that our daily sales data had no trend means that we did not need to take a difference to achieve stationarity. Therefore, the d parameter of the Autoregressive portion of the ARIMA model will be zero (p, d, q)."
   ]
  },
  {
   "cell_type": "code",
   "execution_count": 20,
   "metadata": {},
   "outputs": [],
   "source": [
    "# Designate train/test split. Since this is a time series, order matters. Therefore when making our split, we must preserve the order of data points. \n",
    "# To do this we simply take the first nine months for our training data and reserve the remaining three months for testing data.\n",
    "train = by_days.loc[:'2015-08-31']\n",
    "test = by_days.loc['2015-09-01':]"
   ]
  },
  {
   "cell_type": "code",
   "execution_count": 21,
   "metadata": {},
   "outputs": [
    {
     "data": {
      "text/plain": [
       "order_date\n",
       "2015-01-01    2713.85\n",
       "2015-01-02    2731.90\n",
       "2015-01-03    2662.40\n",
       "2015-01-04    1755.45\n",
       "2015-01-05    2065.95\n",
       "Name: total_price, dtype: float64"
      ]
     },
     "execution_count": 21,
     "metadata": {},
     "output_type": "execute_result"
    }
   ],
   "source": [
    "train.head()"
   ]
  },
  {
   "cell_type": "markdown",
   "metadata": {},
   "source": [
    "# GRIDSEARCH TIME NEEDS WORK"
   ]
  },
  {
   "cell_type": "code",
   "execution_count": 22,
   "metadata": {},
   "outputs": [],
   "source": [
    "# Custom wrapper for ARIMA model to use with scikit-learn's GridSearchCV\n",
    "class ARIMAWrapper(BaseEstimator, RegressorMixin):\n",
    "    def __init__(self, order=(1, 0, 1), seasonal_order=(0, 0, 0, 0)):\n",
    "        self.order = order\n",
    "        self.seasonal_order = seasonal_order\n",
    "        self.model = None\n",
    "\n",
    "    def fit(self, X, y):\n",
    "        self.model = ARIMA(endog=y, order=self.order, seasonal_order=self.seasonal_order)\n",
    "        self.model_fit = self.model.fit()\n",
    "        return self\n",
    "\n",
    "    def predict(self, X):\n",
    "        return self.model_fit.forecast(steps=len(X))"
   ]
  },
  {
   "cell_type": "code",
   "execution_count": 23,
   "metadata": {},
   "outputs": [
    {
     "name": "stdout",
     "output_type": "stream",
     "text": [
      "Fitting 3 folds for each of 4608 candidates, totalling 13824 fits\n"
     ]
    },
    {
     "name": "stdout",
     "output_type": "stream",
     "text": [
      "Best ARIMA(1, 0, 2)x(1, 0, 2, 7) model - MSE:109931.06481033076\n",
      "Mean Absolute Error (MSE): 273.1777686062062\n",
      "Root Mean Squared Error (RMSE): 433.22175424990473\n"
     ]
    }
   ],
   "source": [
    "# Create a smaller parameter grid\n",
    "param_grid = {\n",
    "    'order': [(p, d, q) for p in range(1, 84, 7) for d in range (0, 2) for q in range(1, 3)],\n",
    "    'seasonal_order': [(P, D, Q, S) for P in range(1, 3) for D in range(0, 3) for Q in range(1, 3) for S in range(0, 8)]\n",
    "}\n",
    "\n",
    "# Initialize the GridSearchCV\n",
    "grid = GridSearchCV(estimator=ARIMAWrapper(), param_grid=param_grid, scoring='neg_mean_squared_error', cv=3, verbose=1, n_jobs=-1)\n",
    "\n",
    "# Fit to the data\n",
    "grid.fit(train.index, train)\n",
    "\n",
    "# Summary of the best model\n",
    "print(f'Best ARIMA{grid.best_params_[\"order\"]}x{grid.best_params_[\"seasonal_order\"]} model - MSE:{-grid.best_score_}')\n",
    "\n",
    "# Predicting and calculating MSE\n",
    "y_pred = grid.best_estimator_.predict(test)\n",
    "mae = mean_absolute_error(test, y_pred)\n",
    "rmse = sqrt(mean_squared_error(test, y_pred))\n",
    "\n",
    "print(f'Mean Absolute Error (MSE): {mae}')\n",
    "print(f'Root Mean Squared Error (RMSE): {rmse}')"
   ]
  },
  {
   "cell_type": "code",
   "execution_count": 24,
   "metadata": {},
   "outputs": [],
   "source": [
    "# Create and fit the ARIMA model\n",
    "# A first pass, using all 1's for model orders except for seasonality (7)\n",
    "model = ARIMA(endog=train, order=(1, 1, 1), seasonal_order=(1, 1, 1, 7), freq = 'D')\n",
    "results = model.fit()"
   ]
  },
  {
   "cell_type": "code",
   "execution_count": 25,
   "metadata": {},
   "outputs": [],
   "source": [
    "# # Model summary\n",
    "# print(results.summary())"
   ]
  },
  {
   "cell_type": "code",
   "execution_count": 26,
   "metadata": {},
   "outputs": [],
   "source": [
    "# # Model diagnostics\n",
    "# results.plot_diagnostics()"
   ]
  },
  {
   "cell_type": "code",
   "execution_count": 27,
   "metadata": {},
   "outputs": [
    {
     "data": {
      "text/plain": [
       "2015-10-19    2204.917925\n",
       "2015-12-05    2363.639912\n",
       "2015-09-01    2154.101484\n",
       "2015-10-12    2206.175054\n",
       "2015-09-16    2217.202824\n",
       "Name: predicted_mean, dtype: float64"
      ]
     },
     "execution_count": 27,
     "metadata": {},
     "output_type": "execute_result"
    }
   ],
   "source": [
    "# Create and store predictions for the beginning of the range of dates contained in the test set (September 1st through December 31st)\n",
    "predictions = results.predict(start = test.index[0], end = test.index[-1])\n",
    "predictions.sample(5)"
   ]
  },
  {
   "cell_type": "code",
   "execution_count": 28,
   "metadata": {},
   "outputs": [],
   "source": [
    "# # Visually inspect the ARIMA model's predictions against the holdout set\n",
    "# first_forecast = pd.concat([test, predictions], axis = 1) # Assemble test set and forecast into one dataframe\n",
    "# first_forecast.rename(columns = {'total_price': 'recorded_sales', 'predicted_mean': 'forecast'}, inplace = True) # rename columns to be more intuitive\n",
    "# first_forecast.plot()\n",
    "# plt.title('ARIMA Model Sales Forecast vs. Recorded Sales')\n",
    "# plt.xlabel('Time (Day)')\n",
    "# plt.ylabel('Sales ($)')\n",
    "# plt.show()"
   ]
  },
  {
   "cell_type": "code",
   "execution_count": 29,
   "metadata": {},
   "outputs": [
    {
     "data": {
      "text/plain": [
       "{'model 1': [(1, 1, 1, 1, 1, 1, 7), 435.51, 267.49]}"
      ]
     },
     "execution_count": 29,
     "metadata": {},
     "output_type": "execute_result"
    }
   ],
   "source": [
    "# Obtain and inspect two error metrics: Root Mean Squared Error and Mean Absolute Error\n",
    "rmse = np.sqrt(mean_squared_error(test, predictions))\n",
    "mae = mean_absolute_error(test, predictions)\n",
    "\n",
    "scoring_dict = {}\n",
    "scoring_dict = {'model 1': [model.order +  model.seasonal_order, rmse.round(2), mae.round(2)]}\n",
    "scoring_dict"
   ]
  },
  {
   "cell_type": "markdown",
   "metadata": {},
   "source": [
    "### Begin Fiddling with ARIMA model orders\n",
    "\n",
    "Start with changing differencing order to 0"
   ]
  },
  {
   "cell_type": "code",
   "execution_count": 30,
   "metadata": {},
   "outputs": [],
   "source": [
    "# Create and fit the ARIMA model\n",
    "# A second pass, using all 1's for model orders except for seasonality (7) and a differencing of 0 (d = 0). This was divined through adfuller test above.\n",
    "model2 = ARIMA(endog=train, order=(1, 0, 1), seasonal_order=(1, 1, 1, 7), freq = 'D')\n",
    "results2 = model2.fit()"
   ]
  },
  {
   "cell_type": "code",
   "execution_count": 31,
   "metadata": {},
   "outputs": [],
   "source": [
    "# # Model summary\n",
    "# print(results2.summary())"
   ]
  },
  {
   "cell_type": "code",
   "execution_count": 32,
   "metadata": {},
   "outputs": [],
   "source": [
    "# # Model diagnostics\n",
    "# results2.plot_diagnostics()"
   ]
  },
  {
   "cell_type": "code",
   "execution_count": 33,
   "metadata": {},
   "outputs": [
    {
     "data": {
      "text/plain": [
       "2015-10-11    1886.789798\n",
       "2015-11-09    2230.632686\n",
       "2015-09-03    2245.095168\n",
       "2015-10-18    1886.269520\n",
       "2015-11-01    1886.269798\n",
       "Name: predicted_mean, dtype: float64"
      ]
     },
     "execution_count": 33,
     "metadata": {},
     "output_type": "execute_result"
    }
   ],
   "source": [
    "# Create and store predictions for the beginning of the range of dates contained in the test set (September 1st through December 31st)\n",
    "predictions2 = results2.predict(start = test.index[0], end = test.index[-1])\n",
    "predictions2.sample(5)"
   ]
  },
  {
   "cell_type": "code",
   "execution_count": 34,
   "metadata": {},
   "outputs": [],
   "source": [
    "# # Visually inspect the ARIMA model's predictions against the holdout set\n",
    "# first_forecast = pd.concat([test, predictions2], axis = 1) # Assemble test set and forecast into one dataframe\n",
    "# first_forecast.rename(columns = {'total_price': 'recorded_sales', 'predicted_mean': 'forecast'}, inplace = True) # rename columns to be more intuitive\n",
    "# first_forecast.plot()\n",
    "# plt.title('ARIMA Model Sales Forecast vs. Recorded Sales')\n",
    "# plt.xlabel('Time (Day)')\n",
    "# plt.ylabel('Sales ($)')\n",
    "# plt.show()"
   ]
  },
  {
   "cell_type": "code",
   "execution_count": 35,
   "metadata": {},
   "outputs": [
    {
     "name": "stdout",
     "output_type": "stream",
     "text": [
      "Out of the box ARIMA model error metrics ($):\n",
      "Root mean squared error: 434.27 Mean absolute error 269.27\n"
     ]
    },
    {
     "data": {
      "text/plain": [
       "{'model 1': [(1, 1, 1, 1, 1, 1, 7), 435.51, 267.49],\n",
       " 'model 2': [(1, 0, 1, 1, 1, 1, 7), 434.27, 269.27]}"
      ]
     },
     "execution_count": 35,
     "metadata": {},
     "output_type": "execute_result"
    }
   ],
   "source": [
    "# Obtain and inspect two error metrics: Root Mean Squared Error and Mean Absolute Error\n",
    "rmse = np.sqrt(mean_squared_error(test, predictions2))\n",
    "mae = mean_absolute_error(test, predictions2)\n",
    "print('Out of the box ARIMA model error metrics ($):')\n",
    "print('Root mean squared error:', rmse.round(2), 'Mean absolute error', mae.round(2))\n",
    "\n",
    "scoring_dict['model 2'] =  [model2.order +  model2.seasonal_order, rmse.round(2), mae.round(2)]\n",
    "scoring_dict"
   ]
  },
  {
   "cell_type": "markdown",
   "metadata": {},
   "source": [
    "Now try fiddling with p"
   ]
  },
  {
   "cell_type": "code",
   "execution_count": 36,
   "metadata": {},
   "outputs": [],
   "source": [
    "# Create and fit the ARIMA model\n",
    "model3 = ARIMA(endog=train, order=(1, 0, 1), seasonal_order=(2, 1, 1, 7), freq = 'D')\n",
    "results3 = model3.fit()"
   ]
  },
  {
   "cell_type": "code",
   "execution_count": 37,
   "metadata": {},
   "outputs": [],
   "source": [
    "# # Model summary\n",
    "# print(results3.summary())"
   ]
  },
  {
   "cell_type": "code",
   "execution_count": 38,
   "metadata": {},
   "outputs": [],
   "source": [
    "# # Model diagnostics\n",
    "# results3.plot_diagnostics()"
   ]
  },
  {
   "cell_type": "code",
   "execution_count": 39,
   "metadata": {},
   "outputs": [
    {
     "data": {
      "text/plain": [
       "2015-09-28    2230.631791\n",
       "2015-09-18    2720.041031\n",
       "2015-11-02    2231.152092\n",
       "2015-10-17    2392.662260\n",
       "2015-09-15    2179.833131\n",
       "Name: predicted_mean, dtype: float64"
      ]
     },
     "execution_count": 39,
     "metadata": {},
     "output_type": "execute_result"
    }
   ],
   "source": [
    "# Create and store predictions for the beginning of the range of dates contained in the test set (September 1st through December 31st)\n",
    "predictions2 = results2.predict(start = test.index[0], end = test.index[-1])\n",
    "predictions2.sample(5)"
   ]
  },
  {
   "cell_type": "code",
   "execution_count": 40,
   "metadata": {},
   "outputs": [],
   "source": [
    "# # Visually inspect the ARIMA model's predictions against the holdout set\n",
    "# first_forecast = pd.concat([test, predictions2], axis = 1) # Assemble test set and forecast into one dataframe\n",
    "# first_forecast.rename(columns = {'total_price': 'recorded_sales', 'predicted_mean': 'forecast'}, inplace = True) # rename columns to be more intuitive\n",
    "# first_forecast.plot()\n",
    "# plt.title('ARIMA Model Sales Forecast vs. Recorded Sales')\n",
    "# plt.xlabel('Time (Day)')\n",
    "# plt.ylabel('Sales ($)')\n",
    "# plt.show()"
   ]
  },
  {
   "cell_type": "code",
   "execution_count": 41,
   "metadata": {},
   "outputs": [
    {
     "name": "stdout",
     "output_type": "stream",
     "text": [
      "Out of the box ARIMA model error metrics ($):\n",
      "Root mean squared error: 434.27 Mean absolute error 269.27\n"
     ]
    },
    {
     "data": {
      "text/plain": [
       "{'model 1': [(1, 1, 1, 1, 1, 1, 7), 435.51, 267.49],\n",
       " 'model 2': [(1, 0, 1, 1, 1, 1, 7), 434.27, 269.27]}"
      ]
     },
     "execution_count": 41,
     "metadata": {},
     "output_type": "execute_result"
    }
   ],
   "source": [
    "# Obtain and inspect two error metrics: Root Mean Squared Error and Mean Absolute Error\n",
    "rmse = np.sqrt(mean_squared_error(test, predictions2))\n",
    "mae = mean_absolute_error(test, predictions2)\n",
    "print('Out of the box ARIMA model error metrics ($):')\n",
    "print('Root mean squared error:', rmse.round(2), 'Mean absolute error', mae.round(2))\n",
    "\n",
    "scoring_dict['model 2'] =  [model2.order +  model2.seasonal_order, rmse.round(2), mae.round(2)]\n",
    "scoring_dict"
   ]
  },
  {
   "cell_type": "markdown",
   "metadata": {},
   "source": [
    "### Baseline Comparison\n",
    "Your model's performance means only so much on its own. Often we find ourselves needing to know how well our model has done *compared to* the current model, or compared to some baseline. Here we explore different baselines and see what their error metrics are like."
   ]
  },
  {
   "cell_type": "code",
   "execution_count": 42,
   "metadata": {},
   "outputs": [],
   "source": [
    "# Generating Seasonal Naive Forecast\n",
    "seasonal_naive_forecast = test.shift(7)\n",
    "\n",
    "# Remove NaN values produced by the shift operation\n",
    "seasonal_naive_forecast.dropna(inplace=True)"
   ]
  },
  {
   "cell_type": "code",
   "execution_count": 43,
   "metadata": {},
   "outputs": [
    {
     "data": {
      "text/plain": [
       "(580.5303153526767, 370.5682608695652)"
      ]
     },
     "execution_count": 43,
     "metadata": {},
     "output_type": "execute_result"
    }
   ],
   "source": [
    "rmse = np.sqrt(mean_squared_error(test[7:], seasonal_naive_forecast))\n",
    "mae = mean_absolute_error(test[7:], seasonal_naive_forecast)\n",
    "rmse, mae"
   ]
  },
  {
   "cell_type": "code",
   "execution_count": 44,
   "metadata": {},
   "outputs": [
    {
     "data": {
      "text/plain": [
       "(635.8175111460748, 448.45443242533565)"
      ]
     },
     "execution_count": 44,
     "metadata": {},
     "output_type": "execute_result"
    }
   ],
   "source": [
    "noise = np.random.uniform(-455, 455, size = len(seasonal_naive_forecast))\n",
    "noisy_seasonal_naive_forecast = seasonal_naive_forecast + noise\n",
    "\n",
    "rmse = np.sqrt(mean_squared_error(test[7:], noisy_seasonal_naive_forecast))\n",
    "mae = mean_absolute_error(test[7:], noisy_seasonal_naive_forecast)\n",
    "rmse, mae"
   ]
  },
  {
   "cell_type": "code",
   "execution_count": 45,
   "metadata": {},
   "outputs": [],
   "source": [
    "# Calculate residuals\n",
    "residuals = test[7:] - seasonal_naive_forecast\n",
    "\n",
    "# Determine their standard deviation\n",
    "natural_variability = residuals.std()"
   ]
  },
  {
   "cell_type": "code",
   "execution_count": 46,
   "metadata": {},
   "outputs": [
    {
     "data": {
      "text/plain": [
       "582.2469550285081"
      ]
     },
     "execution_count": 46,
     "metadata": {},
     "output_type": "execute_result"
    }
   ],
   "source": [
    "natural_variability"
   ]
  },
  {
   "cell_type": "code",
   "execution_count": 47,
   "metadata": {},
   "outputs": [
    {
     "data": {
      "text/plain": [
       "(676.5639957835285, 497.61138316065774)"
      ]
     },
     "execution_count": 47,
     "metadata": {},
     "output_type": "execute_result"
    }
   ],
   "source": [
    "noise = np.random.uniform(-natural_variability, natural_variability, size = len(seasonal_naive_forecast))\n",
    "noisy_seasonal_naive_forecast = seasonal_naive_forecast + noise\n",
    "\n",
    "rmse = np.sqrt(mean_squared_error(test[7:], noisy_seasonal_naive_forecast))\n",
    "mae = mean_absolute_error(test[7:], noisy_seasonal_naive_forecast)\n",
    "rmse, mae"
   ]
  },
  {
   "cell_type": "code",
   "execution_count": 48,
   "metadata": {},
   "outputs": [
    {
     "data": {
      "text/plain": [
       "(568.8026191083292, 367.2661815068493)"
      ]
     },
     "execution_count": 48,
     "metadata": {},
     "output_type": "execute_result"
    }
   ],
   "source": [
    "(568.8026191083292, 367.2661815068493)"
   ]
  },
  {
   "cell_type": "code",
   "execution_count": 49,
   "metadata": {},
   "outputs": [
    {
     "name": "stdout",
     "output_type": "stream",
     "text": [
      "2015-01-01: New Year's Day\n",
      "2015-01-19: Martin Luther King Jr. Day\n",
      "2015-02-16: Washington's Birthday\n",
      "2015-05-25: Memorial Day\n",
      "2015-07-03: Independence Day (Observed)\n",
      "2015-07-04: Independence Day\n",
      "2015-09-07: Labor Day\n",
      "2015-10-12: Columbus Day\n",
      "2015-11-11: Veterans Day\n",
      "2015-11-26: Thanksgiving\n",
      "2015-12-25: Christmas Day\n"
     ]
    }
   ],
   "source": [
    "noise_dates = []\n",
    "us_holidays = holidays.UnitedStates(years=2015)\n",
    "for date, name in sorted(us_holidays.items()):\n",
    "    print(f\"{date}: {name}\")\n",
    "    noise_dates.append(date)"
   ]
  },
  {
   "cell_type": "code",
   "execution_count": 50,
   "metadata": {},
   "outputs": [],
   "source": [
    "dummy_model = seasonal_naive_forecast.copy()"
   ]
  },
  {
   "cell_type": "code",
   "execution_count": 51,
   "metadata": {},
   "outputs": [],
   "source": [
    "def boost_sales_on_holidays(data, holiday_list, coefficient):\n",
    "    # Filter holidays from September onward\n",
    "    holiday_list = [date for date in holiday_list if date >= datetime.date(2015, 9, 1)]\n",
    "    \n",
    "    # Convert the list to a Pandas datetime format for easier comparison\n",
    "    holiday_list = pd.to_datetime(holiday_list)\n",
    "    \n",
    "    # Boost the 'sales' column by 50% where the date matches a holiday\n",
    "    data.loc[data.index.isin(holiday_list)] *= 1.5"
   ]
  },
  {
   "cell_type": "code",
   "execution_count": 52,
   "metadata": {},
   "outputs": [],
   "source": [
    "# Apply the boost to the DataFrame\n",
    "boost_sales_on_holidays(dummy_model, noise_dates, 1.5)"
   ]
  },
  {
   "cell_type": "code",
   "execution_count": 53,
   "metadata": {},
   "outputs": [
    {
     "data": {
      "text/plain": [
       "(order_date\n",
       " 2015-09-08    2352.85\n",
       " 2015-09-09    1865.55\n",
       " 2015-09-10    2252.60\n",
       " 2015-09-11    2960.95\n",
       " 2015-09-12    2537.80\n",
       "                ...   \n",
       " 2015-12-27    2104.90\n",
       " 2015-12-28    2100.70\n",
       " 2015-12-29    1882.95\n",
       " 2015-12-30    2244.30\n",
       " 2015-12-31    2137.85\n",
       " Name: total_price, Length: 115, dtype: float64,\n",
       " order_date\n",
       " 2015-09-08    2352.85\n",
       " 2015-09-09    1865.55\n",
       " 2015-09-10    2252.60\n",
       " 2015-09-11    2960.95\n",
       " 2015-09-12    2537.80\n",
       "                ...   \n",
       " 2015-12-27    2104.90\n",
       " 2015-12-28    2100.70\n",
       " 2015-12-29    1882.95\n",
       " 2015-12-30    2244.30\n",
       " 2015-12-31    2137.85\n",
       " Name: total_price, Length: 115, dtype: float64)"
      ]
     },
     "execution_count": 53,
     "metadata": {},
     "output_type": "execute_result"
    }
   ],
   "source": [
    "dummy_model, seasonal_naive_forecast"
   ]
  },
  {
   "cell_type": "code",
   "execution_count": 54,
   "metadata": {},
   "outputs": [
    {
     "data": {
      "text/plain": [
       "<Axes: xlabel='order_date'>"
      ]
     },
     "execution_count": 54,
     "metadata": {},
     "output_type": "execute_result"
    },
    {
     "data": {
      "image/png": "[encoded data removed]",
      "text/plain": [
       "<Figure size 640x480 with 1 Axes>"
      ]
     },
     "metadata": {},
     "output_type": "display_data"
    }
   ],
   "source": [
    "seasonal_naive_forecast.plot()"
   ]
  },
  {
   "cell_type": "code",
   "execution_count": 55,
   "metadata": {},
   "outputs": [
    {
     "data": {
      "text/plain": [
       "<Axes: xlabel='order_date'>"
      ]
     },
     "execution_count": 55,
     "metadata": {},
     "output_type": "execute_result"
    },
    {
     "data": {
      "image/png": "[encoded data removed]",
      "text/plain": [
       "<Figure size 640x480 with 1 Axes>"
      ]
     },
     "metadata": {},
     "output_type": "display_data"
    }
   ],
   "source": [
    "dummy_model.plot()"
   ]
  },
  {
   "cell_type": "code",
   "execution_count": 56,
   "metadata": {},
   "outputs": [
    {
     "data": {
      "text/plain": [
       "<Axes: xlabel='order_date'>"
      ]
     },
     "execution_count": 56,
     "metadata": {},
     "output_type": "execute_result"
    },
    {
     "data": {
      "image/png": "[encoded data removed]",
      "text/plain": [
       "<Figure size 640x480 with 1 Axes>"
      ]
     },
     "metadata": {},
     "output_type": "display_data"
    }
   ],
   "source": [
    "difference = dummy_model - seasonal_naive_forecast\n",
    "difference.plot()"
   ]
  },
  {
   "cell_type": "code",
   "execution_count": 57,
   "metadata": {},
   "outputs": [
    {
     "data": {
      "text/plain": [
       "(613.1687445913645, 389.42293478260865)"
      ]
     },
     "execution_count": 57,
     "metadata": {},
     "output_type": "execute_result"
    }
   ],
   "source": [
    "rmse = np.sqrt(mean_squared_error(test[7:], dummy_model))\n",
    "mae = mean_absolute_error(test[7:], dummy_model)\n",
    "rmse, mae"
   ]
  },
  {
   "cell_type": "markdown",
   "metadata": {},
   "source": [
    "### Exploring Hourly Sales as Timeseries"
   ]
  },
  {
   "cell_type": "code",
   "execution_count": 58,
   "metadata": {},
   "outputs": [
    {
     "ename": "NameError",
     "evalue": "name 'df' is not defined",
     "output_type": "error",
     "traceback": [
      "\u001b[1;31m---------------------------------------------------------------------------\u001b[0m",
      "\u001b[1;31mNameError\u001b[0m                                 Traceback (most recent call last)",
      "\u001b[1;32mc:\\Users\\metal\\kitchen_forecast\\kitchen_sales_forecasting_modeling.ipynb Cell 72\u001b[0m line \u001b[0;36m2\n\u001b[0;32m      <a href='vscode-notebook-cell:/c%3A/Users/metal/kitchen_forecast/kitchen_sales_forecasting_modeling.ipynb#Y131sZmlsZQ%3D%3D?line=0'>1</a>\u001b[0m \u001b[39m# Join date and time columns for combined datetime column\u001b[39;00m\n\u001b[1;32m----> <a href='vscode-notebook-cell:/c%3A/Users/metal/kitchen_forecast/kitchen_sales_forecasting_modeling.ipynb#Y131sZmlsZQ%3D%3D?line=1'>2</a>\u001b[0m df[\u001b[39m'\u001b[39m\u001b[39mcomplete_order_date\u001b[39m\u001b[39m'\u001b[39m] \u001b[39m=\u001b[39m pd\u001b[39m.\u001b[39mto_datetime(df[\u001b[39m'\u001b[39m\u001b[39morder_date\u001b[39m\u001b[39m'\u001b[39m]\u001b[39m.\u001b[39mastype(\u001b[39mstr\u001b[39m)\u001b[39m+\u001b[39m\u001b[39m'\u001b[39m\u001b[39m \u001b[39m\u001b[39m'\u001b[39m\u001b[39m+\u001b[39mdf[\u001b[39m'\u001b[39m\u001b[39morder_time\u001b[39m\u001b[39m'\u001b[39m]\u001b[39m.\u001b[39mastype(\u001b[39mstr\u001b[39m))\n",
      "\u001b[1;31mNameError\u001b[0m: name 'df' is not defined"
     ]
    }
   ],
   "source": [
    "# Join date and time columns for combined datetime column\n",
    "df['complete_order_date'] = pd.to_datetime(df['order_date'].astype(str)+' '+df['order_time'].astype(str))"
   ]
  },
  {
   "cell_type": "code",
   "execution_count": null,
   "metadata": {},
   "outputs": [],
   "source": [
    "# Create hourly downsampled sales from complete datetime column\n",
    "hourly_sales = df[['complete_order_date', 'total_price']]\n",
    "hourly_sales.set_index('complete_order_date', inplace = True)\n",
    "hourly_sales = hourly_sales.resample('1H').sum()"
   ]
  },
  {
   "cell_type": "code",
   "execution_count": null,
   "metadata": {},
   "outputs": [
    {
     "data": {
      "text/html": [
       "<div>\n",
       "<style scoped>\n",
       "    .dataframe tbody tr th:only-of-type {\n",
       "        vertical-align: middle;\n",
       "    }\n",
       "\n",
       "    .dataframe tbody tr th {\n",
       "        vertical-align: top;\n",
       "    }\n",
       "\n",
       "    .dataframe thead th {\n",
       "        text-align: right;\n",
       "    }\n",
       "</style>\n",
       "<table border=\"1\" class=\"dataframe\">\n",
       "  <thead>\n",
       "    <tr style=\"text-align: right;\">\n",
       "      <th></th>\n",
       "      <th>total_price</th>\n",
       "    </tr>\n",
       "    <tr>\n",
       "      <th>complete_order_date</th>\n",
       "      <th></th>\n",
       "    </tr>\n",
       "  </thead>\n",
       "  <tbody>\n",
       "    <tr>\n",
       "      <th>2015-01-01 11:00:00</th>\n",
       "      <td>105.25</td>\n",
       "    </tr>\n",
       "    <tr>\n",
       "      <th>2015-01-01 12:00:00</th>\n",
       "      <td>263.25</td>\n",
       "    </tr>\n",
       "    <tr>\n",
       "      <th>2015-01-01 13:00:00</th>\n",
       "      <td>577.20</td>\n",
       "    </tr>\n",
       "    <tr>\n",
       "      <th>2015-01-01 14:00:00</th>\n",
       "      <td>246.00</td>\n",
       "    </tr>\n",
       "    <tr>\n",
       "      <th>2015-01-01 15:00:00</th>\n",
       "      <td>230.25</td>\n",
       "    </tr>\n",
       "    <tr>\n",
       "      <th>...</th>\n",
       "      <td>...</td>\n",
       "    </tr>\n",
       "    <tr>\n",
       "      <th>2015-12-31 19:00:00</th>\n",
       "      <td>396.15</td>\n",
       "    </tr>\n",
       "    <tr>\n",
       "      <th>2015-12-31 20:00:00</th>\n",
       "      <td>278.50</td>\n",
       "    </tr>\n",
       "    <tr>\n",
       "      <th>2015-12-31 21:00:00</th>\n",
       "      <td>113.20</td>\n",
       "    </tr>\n",
       "    <tr>\n",
       "      <th>2015-12-31 22:00:00</th>\n",
       "      <td>20.25</td>\n",
       "    </tr>\n",
       "    <tr>\n",
       "      <th>2015-12-31 23:00:00</th>\n",
       "      <td>12.75</td>\n",
       "    </tr>\n",
       "  </tbody>\n",
       "</table>\n",
       "<p>8749 rows × 1 columns</p>\n",
       "</div>"
      ],
      "text/plain": [
       "                     total_price\n",
       "complete_order_date             \n",
       "2015-01-01 11:00:00       105.25\n",
       "2015-01-01 12:00:00       263.25\n",
       "2015-01-01 13:00:00       577.20\n",
       "2015-01-01 14:00:00       246.00\n",
       "2015-01-01 15:00:00       230.25\n",
       "...                          ...\n",
       "2015-12-31 19:00:00       396.15\n",
       "2015-12-31 20:00:00       278.50\n",
       "2015-12-31 21:00:00       113.20\n",
       "2015-12-31 22:00:00        20.25\n",
       "2015-12-31 23:00:00        12.75\n",
       "\n",
       "[8749 rows x 1 columns]"
      ]
     },
     "execution_count": 65,
     "metadata": {},
     "output_type": "execute_result"
    }
   ],
   "source": [
    "hourly_sales"
   ]
  },
  {
   "cell_type": "code",
   "execution_count": null,
   "metadata": {},
   "outputs": [
    {
     "data": {
      "image/png": "[encoded data removed]",
      "text/plain": [
       "<Figure size 640x480 with 1 Axes>"
      ]
     },
     "metadata": {},
     "output_type": "display_data"
    }
   ],
   "source": [
    "# Autocorrelation for data downsampled to daily\n",
    "plot_acf(hourly_sales, lags = 48)\n",
    "plt.show()"
   ]
  },
  {
   "cell_type": "code",
   "execution_count": null,
   "metadata": {},
   "outputs": [],
   "source": [
    "# # Apply seasonal decomposition\n",
    "# result = seasonal_decompose(by_days, model='additive') # Use 'multiplicative' for multiplicative model\n",
    "\n",
    "# # # You can then access the individual components\n",
    "# # trend = result.trend\n",
    "# # seasonal = result.seasonal\n",
    "# # residual = result.resid\n",
    "\n",
    "# fig = plt.figure()  \n",
    "# fig = result.plot()  \n",
    "# fig.set_size_inches(15, 8)\n",
    "# plt.show()"
   ]
  }
 ],
 "metadata": {
  "kernelspec": {
   "display_name": "Python 3",
   "language": "python",
   "name": "python3"
  },
  "language_info": {
   "codemirror_mode": {
    "name": "ipython",
    "version": 3
   },
   "file_extension": ".py",
   "mimetype": "text/x-python",
   "name": "python",
   "nbconvert_exporter": "python",
   "pygments_lexer": "ipython3",
   "version": "3.9.13"
  },
  "orig_nbformat": 4
 },
 "nbformat": 4,
 "nbformat_minor": 2
}
